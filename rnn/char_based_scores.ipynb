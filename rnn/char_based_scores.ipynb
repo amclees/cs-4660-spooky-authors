{
 "cells": [
  {
   "cell_type": "code",
   "execution_count": 8,
   "metadata": {
    "collapsed": true
   },
   "outputs": [],
   "source": [
    "import numpy as np\n",
    "import pandas as pd"
   ]
  },
  {
   "cell_type": "code",
   "execution_count": 9,
   "metadata": {},
   "outputs": [
    {
     "data": {
      "text/plain": [
       "array([[ 3,  3,  2],\n",
       "       [15, 11, 10],\n",
       "       [ 4,  4,  5],\n",
       "       ..., \n",
       "       [ 4,  4,  5],\n",
       "       [ 6,  6,  6],\n",
       "       [ 5,  3,  6]])"
      ]
     },
     "execution_count": 9,
     "metadata": {},
     "output_type": "execute_result"
    }
   ],
   "source": [
    "scores = np.load('char_based_scores.npy')\n",
    "scores"
   ]
  },
  {
   "cell_type": "code",
   "execution_count": 10,
   "metadata": {},
   "outputs": [
    {
     "data": {
      "text/plain": [
       "array([[ 0.4223188 ,  0.4223188 ,  0.1553624 ],\n",
       "       [ 0.97555875,  0.01786798,  0.00657326],\n",
       "       [ 0.21194156,  0.21194156,  0.57611688],\n",
       "       ..., \n",
       "       [ 0.21194156,  0.21194156,  0.57611688],\n",
       "       [ 0.33333333,  0.33333333,  0.33333333],\n",
       "       [ 0.25949646,  0.03511903,  0.70538451]])"
      ]
     },
     "execution_count": 10,
     "metadata": {},
     "output_type": "execute_result"
    }
   ],
   "source": [
    "def softmax(x):\n",
    "    e_x = np.exp(x - np.max(x))\n",
    "    return e_x / e_x.sum(axis=0)\n",
    "\n",
    "y = np.zeros((scores.shape[0], 3))\n",
    "for index, score in enumerate(scores):\n",
    "    y[index] = softmax(score)\n",
    "    \n",
    "y"
   ]
  },
  {
   "cell_type": "code",
   "execution_count": 11,
   "metadata": {},
   "outputs": [],
   "source": [
    "test = pd.read_csv('test.csv')\n",
    "\n",
    "output = pd.DataFrame(data={\n",
    "    'id': test['id'],\n",
    "    'EAP': y[:,0],\n",
    "    'HPL': y[:,1],\n",
    "    'MWS': y[:,2]\n",
    "})\n",
    "\n",
    "output = output[['id', 'EAP', 'HPL', 'MWS']]\n",
    "\n",
    "output.to_csv('submission.csv', index=False)"
   ]
  }
 ],
 "metadata": {
  "kernelspec": {
   "display_name": "Python 3",
   "language": "python",
   "name": "python3"
  },
  "language_info": {
   "codemirror_mode": {
    "name": "ipython",
    "version": 3
   },
   "file_extension": ".py",
   "mimetype": "text/x-python",
   "name": "python",
   "nbconvert_exporter": "python",
   "pygments_lexer": "ipython3",
   "version": "3.6.2"
  }
 },
 "nbformat": 4,
 "nbformat_minor": 2
}
