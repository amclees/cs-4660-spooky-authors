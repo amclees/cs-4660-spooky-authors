{
 "cells": [
  {
   "cell_type": "code",
   "execution_count": 2,
   "metadata": {},
   "outputs": [
    {
     "data": {
      "text/plain": [
       "array([ 0.01042572, -0.10152897,  0.00222041, -0.0034356 ,  0.01228442,\n",
       "        0.30769554, -0.07947782,  0.12497436,  0.07616677,  0.03573688,\n",
       "       -0.03931348, -0.16257982, -0.01395322,  0.16719928, -0.1172023 ,\n",
       "        0.04532015, -0.01369274,  0.01747985, -0.04689903, -0.09709362,\n",
       "        0.08340736,  0.02153932,  0.05015004, -0.01492952,  0.00694102,\n",
       "       -0.11603966,  0.02327073,  0.04833107, -0.08860967,  0.07758707,\n",
       "        0.11686068, -0.07270221,  0.00063768,  0.11282094, -0.11237124,\n",
       "       -0.03598298, -0.03243347, -0.17576018,  0.11749479, -0.02348709,\n",
       "       -0.13416131,  0.08306036, -0.04334487,  0.08462895,  0.0415916 ,\n",
       "        0.02188094,  0.11785688,  0.04110907, -0.04270948, -0.10058783,\n",
       "       -0.06495819,  0.07118203,  0.07983044, -0.10853075, -0.05915024,\n",
       "       -0.06038706,  0.12117775,  0.047922  , -0.0940487 , -0.09315522,\n",
       "       -0.06368534,  0.09246344, -0.07773381, -0.05860792,  0.11604523,\n",
       "       -0.03385521,  0.0890033 ,  0.05772526, -0.00597074, -0.02614691,\n",
       "        0.05244182, -0.01986951, -0.12392688, -0.01162633,  0.22328731,\n",
       "        0.08916556,  0.03172575,  0.00410217,  0.10479867, -0.03701792,\n",
       "        0.12953778,  0.15003981,  0.01224458, -0.03225734,  0.01755445,\n",
       "        0.1657968 , -0.12175111,  0.06920204,  0.03898534, -0.16923502,\n",
       "        0.08639178, -0.08215626, -0.08605589,  0.03604976, -0.0522978 ,\n",
       "       -0.04412482,  0.0589518 ,  0.11689476, -0.02059364, -0.07480076,\n",
       "       -0.04948593,  0.02767652,  0.0134061 ,  0.09488121, -0.17588331,\n",
       "        0.02063611, -0.01795054,  0.1468244 , -0.07566304, -0.00710927,\n",
       "       -0.03676739,  0.14090334, -0.04900468, -0.09370215,  0.04949609,\n",
       "        0.04208851, -0.0435117 , -0.1917814 ,  0.01729637, -0.08655541,\n",
       "       -0.05153835, -0.03734355, -0.03580289,  0.04748446,  0.15081057,\n",
       "        0.08379591, -0.07142079, -0.11124004], dtype=float32)"
      ]
     },
     "execution_count": 2,
     "metadata": {},
     "output_type": "execute_result"
    }
   ],
   "source": [
    "import numpy as np\n",
    "import json\n",
    "\n",
    "final_embeddings = np.load('final_embeddings.npy')\n",
    "\n",
    "dictionary = json.load(open('dictionary.json'))\n",
    "reverse_dictionary = dict(zip(dictionary.values(), dictionary.keys()))\n",
    "\n",
    "final_embeddings[dictionary['dog']]"
   ]
  },
  {
   "cell_type": "code",
   "execution_count": 5,
   "metadata": {},
   "outputs": [],
   "source": [
    "import os\n",
    "from tempfile import gettempdir\n",
    "\n",
    "def plot_with_labels(low_dim_embs, labels, filename):\n",
    "  assert low_dim_embs.shape[0] >= len(labels), 'More labels than embeddings'\n",
    "  plt.figure(figsize=(18, 18))  # in inches\n",
    "  for i, label in enumerate(labels):\n",
    "    x, y = low_dim_embs[i, :]\n",
    "    plt.scatter(x, y)\n",
    "    plt.annotate(label,\n",
    "                 xy=(x, y),\n",
    "                 xytext=(5, 2),\n",
    "                 textcoords='offset points',\n",
    "                 ha='right',\n",
    "                 va='bottom')\n",
    "\n",
    "  plt.savefig(filename)\n",
    "\n",
    "try:\n",
    "  # pylint: disable=g-import-not-at-top\n",
    "  from sklearn.manifold import TSNE\n",
    "  import matplotlib.pyplot as plt\n",
    "\n",
    "  tsne = TSNE(perplexity=30, n_components=2, init='pca', n_iter=5000, method='exact')\n",
    "  plot_only = 500\n",
    "  low_dim_embs = tsne.fit_transform(final_embeddings[:plot_only, :])\n",
    "  labels = [reverse_dictionary[i] for i in range(plot_only)]\n",
    "  plot_with_labels(low_dim_embs, labels, 'tsne.png')\n",
    "\n",
    "except ImportError as ex:\n",
    "  print('Please install sklearn, matplotlib, and scipy to show embeddings.')\n",
    "  print(ex)"
   ]
  }
 ],
 "metadata": {
  "kernelspec": {
   "display_name": "Python 3",
   "language": "python",
   "name": "python3"
  },
  "language_info": {
   "codemirror_mode": {
    "name": "ipython",
    "version": 3
   },
   "file_extension": ".py",
   "mimetype": "text/x-python",
   "name": "python",
   "nbconvert_exporter": "python",
   "pygments_lexer": "ipython3",
   "version": "3.6.2"
  }
 },
 "nbformat": 4,
 "nbformat_minor": 2
}
